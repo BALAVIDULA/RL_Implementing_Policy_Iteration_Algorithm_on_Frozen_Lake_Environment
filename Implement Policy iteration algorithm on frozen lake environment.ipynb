{
  "nbformat": 4,
  "nbformat_minor": 0,
  "metadata": {
    "colab": {
      "provenance": []
    },
    "kernelspec": {
      "name": "python3",
      "display_name": "Python 3"
    },
    "language_info": {
      "name": "python"
    }
  },
  "cells": [
    {
      "cell_type": "code",
      "execution_count": null,
      "metadata": {
        "colab": {
          "base_uri": "https://localhost:8080/"
        },
        "id": "slOtBsFhtngm",
        "outputId": "a36768b5-ccbb-432d-fe84-574ab0726dfa"
      },
      "outputs": [
        {
          "output_type": "stream",
          "name": "stderr",
          "text": [
            "/usr/local/lib/python3.10/dist-packages/gym/core.py:317: DeprecationWarning: \u001b[33mWARN: Initializing wrapper in old step API which returns one bool instead of two. It is recommended to set `new_step_api=True` to use new step API. This will be the default behaviour in future.\u001b[0m\n",
            "  deprecation(\n",
            "/usr/local/lib/python3.10/dist-packages/gym/wrappers/step_api_compatibility.py:39: DeprecationWarning: \u001b[33mWARN: Initializing environment in old step API which returns one bool instead of two. It is recommended to set `new_step_api=True` to use new step API. This will be the default behaviour in future.\u001b[0m\n",
            "  deprecation(\n"
          ]
        }
      ],
      "source": [
        "import numpy as np\n",
        "import tools\n",
        "import gym\n",
        "env=gym.make('FrozenLake8x8-v1')"
      ]
    },
    {
      "cell_type": "code",
      "source": [
        "pip install tools"
      ],
      "metadata": {
        "colab": {
          "base_uri": "https://localhost:8080/"
        },
        "id": "lERptkvhvL8t",
        "outputId": "9fe1d715-cf7a-41fb-e3f2-575cf4fd2613"
      },
      "execution_count": null,
      "outputs": [
        {
          "output_type": "stream",
          "name": "stdout",
          "text": [
            "Collecting tools\n",
            "  Downloading tools-0.1.9.tar.gz (34 kB)\n",
            "  Preparing metadata (setup.py) ... \u001b[?25l\u001b[?25hdone\n",
            "Collecting pytils (from tools)\n",
            "  Downloading pytils-0.4.1.tar.gz (99 kB)\n",
            "\u001b[2K     \u001b[90m━━━━━━━━━━━━━━━━━━━━━━━━━━━━━━━━━━━━━━━━\u001b[0m \u001b[32m99.1/99.1 kB\u001b[0m \u001b[31m3.7 MB/s\u001b[0m eta \u001b[36m0:00:00\u001b[0m\n",
            "\u001b[?25h  Installing build dependencies ... \u001b[?25l\u001b[?25hdone\n",
            "  Getting requirements to build wheel ... \u001b[?25l\u001b[?25hdone\n",
            "  Preparing metadata (pyproject.toml) ... \u001b[?25l\u001b[?25hdone\n",
            "Requirement already satisfied: six in /usr/local/lib/python3.10/dist-packages (from tools) (1.16.0)\n",
            "Requirement already satisfied: lxml in /usr/local/lib/python3.10/dist-packages (from tools) (4.9.4)\n",
            "Building wheels for collected packages: tools, pytils\n",
            "  Building wheel for tools (setup.py) ... \u001b[?25l\u001b[?25hdone\n",
            "  Created wheel for tools: filename=tools-0.1.9-py3-none-any.whl size=46731 sha256=44276d2d5ef59f2f084ff563ab61743bb77dccd520e52f002c62a4dbe04484d7\n",
            "  Stored in directory: /root/.cache/pip/wheels/c0/d0/70/a33bd4bed2af4f7038b038c16faab552cd0e9d9f4125223a71\n",
            "  Building wheel for pytils (pyproject.toml) ... \u001b[?25l\u001b[?25hdone\n",
            "  Created wheel for pytils: filename=pytils-0.4.1-py3-none-any.whl size=32536 sha256=f0180fb3e8976369d57fb6394f3786803a8f261f52b449fe41dfa276ec876547\n",
            "  Stored in directory: /root/.cache/pip/wheels/5a/eb/7c/3b6f0c25815749883152b2caca34c35dbaab13ec2864270cbd\n",
            "Successfully built tools pytils\n",
            "Installing collected packages: pytils, tools\n",
            "Successfully installed pytils-0.4.1 tools-0.1.9\n"
          ]
        }
      ]
    },
    {
      "cell_type": "code",
      "source": [
        "env.action_space"
      ],
      "metadata": {
        "colab": {
          "base_uri": "https://localhost:8080/"
        },
        "id": "y5EwMhfWvMAZ",
        "outputId": "553657cb-3e4c-4612-c663-1cc78aa9c792"
      },
      "execution_count": null,
      "outputs": [
        {
          "output_type": "execute_result",
          "data": {
            "text/plain": [
              "Discrete(4)"
            ]
          },
          "metadata": {},
          "execution_count": 6
        }
      ]
    },
    {
      "cell_type": "code",
      "source": [
        "env.action_space.n"
      ],
      "metadata": {
        "colab": {
          "base_uri": "https://localhost:8080/"
        },
        "id": "qCCGUG2GvMEV",
        "outputId": "e9a47a1d-a7c5-4462-b434-e79a09db93fc"
      },
      "execution_count": null,
      "outputs": [
        {
          "output_type": "execute_result",
          "data": {
            "text/plain": [
              "4"
            ]
          },
          "metadata": {},
          "execution_count": 7
        }
      ]
    },
    {
      "cell_type": "code",
      "source": [
        "env.observation_space"
      ],
      "metadata": {
        "colab": {
          "base_uri": "https://localhost:8080/"
        },
        "id": "C56K7zEOvMHW",
        "outputId": "c339116a-c7a7-47fc-f026-6b000883d6fc"
      },
      "execution_count": null,
      "outputs": [
        {
          "output_type": "execute_result",
          "data": {
            "text/plain": [
              "Discrete(64)"
            ]
          },
          "metadata": {},
          "execution_count": 8
        }
      ]
    },
    {
      "cell_type": "code",
      "source": [
        "env.observation_space.n"
      ],
      "metadata": {
        "colab": {
          "base_uri": "https://localhost:8080/"
        },
        "id": "_XMs_W6ovMLI",
        "outputId": "7de22c29-1868-45b1-f0ae-bf9357da1fd7"
      },
      "execution_count": null,
      "outputs": [
        {
          "output_type": "execute_result",
          "data": {
            "text/plain": [
              "64"
            ]
          },
          "metadata": {},
          "execution_count": 9
        }
      ]
    },
    {
      "cell_type": "code",
      "source": [
        "env.env.P[0][1]"
      ],
      "metadata": {
        "colab": {
          "base_uri": "https://localhost:8080/"
        },
        "id": "vj3aZoBlvMOS",
        "outputId": "d6b7ac55-4515-4d1e-882d-c5ce77738d70"
      },
      "execution_count": null,
      "outputs": [
        {
          "output_type": "execute_result",
          "data": {
            "text/plain": [
              "[(0.3333333333333333, 0, 0.0, False),\n",
              " (0.3333333333333333, 8, 0.0, False),\n",
              " (0.3333333333333333, 1, 0.0, False)]"
            ]
          },
          "metadata": {},
          "execution_count": 10
        }
      ]
    },
    {
      "cell_type": "code",
      "source": [
        "env.env.P[1][1]"
      ],
      "metadata": {
        "colab": {
          "base_uri": "https://localhost:8080/"
        },
        "id": "EPSK2ICOvMR9",
        "outputId": "ff4bc195-ceae-44bb-f5af-d55069056d1f"
      },
      "execution_count": null,
      "outputs": [
        {
          "output_type": "execute_result",
          "data": {
            "text/plain": [
              "[(0.3333333333333333, 0, 0.0, False),\n",
              " (0.3333333333333333, 9, 0.0, False),\n",
              " (0.3333333333333333, 2, 0.0, False)]"
            ]
          },
          "metadata": {},
          "execution_count": 11
        }
      ]
    },
    {
      "cell_type": "code",
      "source": [
        "def argmax(env,V,pi,action,s,gamma):\n",
        "    e=np.zeros(env.action_space.n)\n",
        "    for a in range(env.action_space.n):\n",
        "        q=0\n",
        "        P=np.array(env.env.P[s][a])\n",
        "        (x,y)=np.shape(P)\n",
        "        for i in range(x):\n",
        "            s_=int(P[i][1])\n",
        "            p=P[i][0]\n",
        "            r=P[i][2]\n",
        "            q+=p*(r+gamma*V[s_])\n",
        "            e[a]=q\n",
        "    m=np.argmax(e)\n",
        "    action[s]=m\n",
        "    pi[s][m]=1\n",
        "    return pi"
      ],
      "metadata": {
        "id": "9ATuWhxpvMVz"
      },
      "execution_count": null,
      "outputs": []
    },
    {
      "cell_type": "code",
      "source": [
        "def bellman_optimality_update(env,V,s,gamma):\n",
        "    pi=np.zeros((env.observation_space.n,env.action_space.n))\n",
        "    e=np.zeros(env.action_space.n)\n",
        "    for a in range(env.action_space.n):\n",
        "        q=0\n",
        "        P=np.array(env.env.P[s][a])\n",
        "        (x,y)=np.shape(P)\n",
        "        for i in range(x):\n",
        "            s_=int(P[i][1])\n",
        "            p=P[i][0]\n",
        "            r=P[i][2]\n",
        "            q+=p*(r+gamma*V[s_])\n",
        "            e[a]=q\n",
        "    m=np.argmax(e)\n",
        "    pi[s][m]=1\n",
        "    value=0\n",
        "    for a in range(env.action_space.n):\n",
        "        u = 0\n",
        "        P = np.array(env.env.P[s][a])\n",
        "        (x,y) = np.shape(P)\n",
        "        for i in range(x):\n",
        "\n",
        "            s_= int(P[i][1])\n",
        "            p = P[i][0]\n",
        "            r = P[i][2]\n",
        "\n",
        "            u += p*(r+gamma*V[s_])\n",
        "\n",
        "        value += pi[s,a] * u\n",
        "\n",
        "    V[s]=value\n",
        "    return V[s]"
      ],
      "metadata": {
        "id": "PXczKobuvMZN"
      },
      "execution_count": null,
      "outputs": []
    },
    {
      "cell_type": "code",
      "source": [
        "def value_iteration(env,gamma,theta):\n",
        "    V=np.zeros(env.observation_space.n)\n",
        "    while True:\n",
        "        delta=0\n",
        "        for s in range(env.observation_space.n):\n",
        "            v=V[s]\n",
        "            bellman_optimality_update(env,V,s,gamma)\n",
        "            delta=max(delta,abs(v-V[s]))\n",
        "        if delta<theta:\n",
        "            break\n",
        "    pi=np.zeros((env.observation_space.n,env.action_space.n))\n",
        "    action = np.zeros((env.observation_space.n))\n",
        "    for s in range(env.observation_space.n):\n",
        "        pi = argmax(env, V, pi,action, s, gamma)         # extract optimal policy using action value\n",
        "\n",
        "    return V, pi,action                                          # optimal value funtion, optimal policy\n"
      ],
      "metadata": {
        "id": "eI9z9jCKvMdJ"
      },
      "execution_count": null,
      "outputs": []
    },
    {
      "cell_type": "code",
      "source": [
        "\n",
        "gamma=0.99\n",
        "theta=0.0001\n",
        "V,pi, action=value_iteration(env,gamma,theta)"
      ],
      "metadata": {
        "id": "o2woP7IivMgR"
      },
      "execution_count": null,
      "outputs": []
    },
    {
      "cell_type": "code",
      "source": [
        "\n",
        "V"
      ],
      "metadata": {
        "colab": {
          "base_uri": "https://localhost:8080/"
        },
        "id": "Yg1n_kMfvMjY",
        "outputId": "5ae7f864-a6d2-4b92-a8d0-b86041441d71"
      },
      "execution_count": null,
      "outputs": [
        {
          "output_type": "execute_result",
          "data": {
            "text/plain": [
              "array([0.41380427, 0.42646611, 0.44549747, 0.46775343, 0.49195119,\n",
              "       0.51613512, 0.53484842, 0.54057219, 0.41087036, 0.42046608,\n",
              "       0.43683661, 0.45781294, 0.4827469 , 0.51312584, 0.54539258,\n",
              "       0.55701209, 0.3959509 , 0.39310776, 0.37485136, 0.        ,\n",
              "       0.42127687, 0.49343747, 0.56087922, 0.58554475, 0.36850657,\n",
              "       0.35230245, 0.30599599, 0.20012109, 0.30044703, 0.        ,\n",
              "       0.56872722, 0.62798394, 0.33140018, 0.29058194, 0.19687072,\n",
              "       0.        , 0.28905923, 0.36174158, 0.53457878, 0.68947802,\n",
              "       0.30447888, 0.        , 0.        , 0.08615983, 0.21376735,\n",
              "       0.27256811, 0.        , 0.77188416, 0.28695781, 0.        ,\n",
              "       0.05729349, 0.0473396 , 0.        , 0.25045823, 0.        ,\n",
              "       0.87769228, 0.27832491, 0.19924855, 0.12633303, 0.        ,\n",
              "       0.23956772, 0.48639843, 0.73708127, 0.        ])"
            ]
          },
          "metadata": {},
          "execution_count": 16
        }
      ]
    },
    {
      "cell_type": "code",
      "source": [
        "pi"
      ],
      "metadata": {
        "colab": {
          "base_uri": "https://localhost:8080/"
        },
        "id": "EWXUbBgkvMmy",
        "outputId": "26fe96e9-e9cd-48fc-f5a9-e2e919a02aca"
      },
      "execution_count": null,
      "outputs": [
        {
          "output_type": "execute_result",
          "data": {
            "text/plain": [
              "array([[0., 0., 0., 1.],\n",
              "       [0., 0., 1., 0.],\n",
              "       [0., 0., 1., 0.],\n",
              "       [0., 0., 1., 0.],\n",
              "       [0., 0., 1., 0.],\n",
              "       [0., 0., 1., 0.],\n",
              "       [0., 0., 1., 0.],\n",
              "       [0., 0., 1., 0.],\n",
              "       [0., 0., 0., 1.],\n",
              "       [0., 0., 0., 1.],\n",
              "       [0., 0., 0., 1.],\n",
              "       [0., 0., 0., 1.],\n",
              "       [0., 0., 0., 1.],\n",
              "       [0., 0., 1., 0.],\n",
              "       [0., 0., 1., 0.],\n",
              "       [0., 1., 0., 0.],\n",
              "       [0., 0., 0., 1.],\n",
              "       [0., 0., 0., 1.],\n",
              "       [1., 0., 0., 0.],\n",
              "       [1., 0., 0., 0.],\n",
              "       [0., 0., 1., 0.],\n",
              "       [0., 0., 0., 1.],\n",
              "       [0., 0., 1., 0.],\n",
              "       [0., 1., 0., 0.],\n",
              "       [0., 0., 0., 1.],\n",
              "       [0., 0., 0., 1.],\n",
              "       [0., 0., 0., 1.],\n",
              "       [0., 1., 0., 0.],\n",
              "       [1., 0., 0., 0.],\n",
              "       [1., 0., 0., 0.],\n",
              "       [0., 0., 1., 0.],\n",
              "       [0., 0., 1., 0.],\n",
              "       [1., 0., 0., 0.],\n",
              "       [0., 0., 0., 1.],\n",
              "       [1., 0., 0., 0.],\n",
              "       [1., 0., 0., 0.],\n",
              "       [0., 0., 1., 0.],\n",
              "       [0., 1., 0., 0.],\n",
              "       [0., 0., 0., 1.],\n",
              "       [0., 0., 1., 0.],\n",
              "       [1., 0., 0., 0.],\n",
              "       [1., 0., 0., 0.],\n",
              "       [1., 0., 0., 0.],\n",
              "       [0., 1., 0., 0.],\n",
              "       [0., 0., 0., 1.],\n",
              "       [1., 0., 0., 0.],\n",
              "       [1., 0., 0., 0.],\n",
              "       [0., 0., 1., 0.],\n",
              "       [1., 0., 0., 0.],\n",
              "       [1., 0., 0., 0.],\n",
              "       [0., 1., 0., 0.],\n",
              "       [1., 0., 0., 0.],\n",
              "       [1., 0., 0., 0.],\n",
              "       [1., 0., 0., 0.],\n",
              "       [1., 0., 0., 0.],\n",
              "       [0., 0., 1., 0.],\n",
              "       [1., 0., 0., 0.],\n",
              "       [0., 1., 0., 0.],\n",
              "       [1., 0., 0., 0.],\n",
              "       [1., 0., 0., 0.],\n",
              "       [0., 1., 0., 0.],\n",
              "       [0., 0., 1., 0.],\n",
              "       [0., 1., 0., 0.],\n",
              "       [1., 0., 0., 0.]])"
            ]
          },
          "metadata": {},
          "execution_count": 17
        }
      ]
    },
    {
      "cell_type": "code",
      "source": [
        "a=np.reshape(action,(8,8))\n",
        "print(a)"
      ],
      "metadata": {
        "colab": {
          "base_uri": "https://localhost:8080/"
        },
        "id": "strllhaVvNPm",
        "outputId": "67e8c24c-d706-4d19-a47f-d74965ad08a1"
      },
      "execution_count": null,
      "outputs": [
        {
          "output_type": "stream",
          "name": "stdout",
          "text": [
            "[[3. 2. 2. 2. 2. 2. 2. 2.]\n",
            " [3. 3. 3. 3. 3. 2. 2. 1.]\n",
            " [3. 3. 0. 0. 2. 3. 2. 1.]\n",
            " [3. 3. 3. 1. 0. 0. 2. 2.]\n",
            " [0. 3. 0. 0. 2. 1. 3. 2.]\n",
            " [0. 0. 0. 1. 3. 0. 0. 2.]\n",
            " [0. 0. 1. 0. 0. 0. 0. 2.]\n",
            " [0. 1. 0. 0. 1. 2. 1. 0.]]\n"
          ]
        }
      ]
    },
    {
      "cell_type": "code",
      "source": [
        "action=tuple(action)"
      ],
      "metadata": {
        "id": "PKsF6m5avNSz"
      },
      "execution_count": null,
      "outputs": []
    },
    {
      "cell_type": "code",
      "source": [
        "action"
      ],
      "metadata": {
        "colab": {
          "base_uri": "https://localhost:8080/"
        },
        "id": "h5UHkFBQvNV8",
        "outputId": "b8c77512-3a6b-465b-fbf4-fb2fb37bf9a8"
      },
      "execution_count": null,
      "outputs": [
        {
          "output_type": "execute_result",
          "data": {
            "text/plain": [
              "(3.0,\n",
              " 2.0,\n",
              " 2.0,\n",
              " 2.0,\n",
              " 2.0,\n",
              " 2.0,\n",
              " 2.0,\n",
              " 2.0,\n",
              " 3.0,\n",
              " 3.0,\n",
              " 3.0,\n",
              " 3.0,\n",
              " 3.0,\n",
              " 2.0,\n",
              " 2.0,\n",
              " 1.0,\n",
              " 3.0,\n",
              " 3.0,\n",
              " 0.0,\n",
              " 0.0,\n",
              " 2.0,\n",
              " 3.0,\n",
              " 2.0,\n",
              " 1.0,\n",
              " 3.0,\n",
              " 3.0,\n",
              " 3.0,\n",
              " 1.0,\n",
              " 0.0,\n",
              " 0.0,\n",
              " 2.0,\n",
              " 2.0,\n",
              " 0.0,\n",
              " 3.0,\n",
              " 0.0,\n",
              " 0.0,\n",
              " 2.0,\n",
              " 1.0,\n",
              " 3.0,\n",
              " 2.0,\n",
              " 0.0,\n",
              " 0.0,\n",
              " 0.0,\n",
              " 1.0,\n",
              " 3.0,\n",
              " 0.0,\n",
              " 0.0,\n",
              " 2.0,\n",
              " 0.0,\n",
              " 0.0,\n",
              " 1.0,\n",
              " 0.0,\n",
              " 0.0,\n",
              " 0.0,\n",
              " 0.0,\n",
              " 2.0,\n",
              " 0.0,\n",
              " 1.0,\n",
              " 0.0,\n",
              " 0.0,\n",
              " 1.0,\n",
              " 2.0,\n",
              " 1.0,\n",
              " 0.0)"
            ]
          },
          "metadata": {},
          "execution_count": 20
        }
      ]
    },
    {
      "cell_type": "code",
      "source": [
        "done = False\n",
        "state = env.reset()\n",
        "while not done:\n",
        "    # Choose action based on the policy\n",
        "    for i in action:\n",
        "    # Take the action\n",
        "        next_state, reward, done,t= env.step(i)\n",
        "\n",
        "    # Print the observation (state, action, reward, next_state)\n",
        "        print(f\"State: {state}, Action: {i}, Reward: {reward}, Next State: {next_state}\")\n",
        "\n",
        "    # Update the current state for the next iteration\n",
        "        state = next_state\n",
        "\n",
        "# Close the environment\n",
        "env.close()"
      ],
      "metadata": {
        "colab": {
          "base_uri": "https://localhost:8080/"
        },
        "id": "SgwZ-JgivNYd",
        "outputId": "c7d7473e-05f0-4a01-d652-f4df39fcc060"
      },
      "execution_count": null,
      "outputs": [
        {
          "output_type": "stream",
          "name": "stdout",
          "text": [
            "State: 0, Action: 3.0, Reward: 0.0, Next State: 0\n",
            "State: 0, Action: 2.0, Reward: 0.0, Next State: 0\n",
            "State: 0, Action: 2.0, Reward: 0.0, Next State: 0\n",
            "State: 0, Action: 2.0, Reward: 0.0, Next State: 0\n",
            "State: 0, Action: 2.0, Reward: 0.0, Next State: 0\n",
            "State: 0, Action: 2.0, Reward: 0.0, Next State: 8\n",
            "State: 8, Action: 2.0, Reward: 0.0, Next State: 9\n",
            "State: 9, Action: 2.0, Reward: 0.0, Next State: 17\n",
            "State: 17, Action: 3.0, Reward: 0.0, Next State: 18\n",
            "State: 18, Action: 3.0, Reward: 0.0, Next State: 19\n",
            "State: 19, Action: 3.0, Reward: 0, Next State: 19\n",
            "State: 19, Action: 3.0, Reward: 0, Next State: 19\n",
            "State: 19, Action: 3.0, Reward: 0, Next State: 19\n",
            "State: 19, Action: 2.0, Reward: 0, Next State: 19\n",
            "State: 19, Action: 2.0, Reward: 0, Next State: 19\n",
            "State: 19, Action: 1.0, Reward: 0, Next State: 19\n",
            "State: 19, Action: 3.0, Reward: 0, Next State: 19\n",
            "State: 19, Action: 3.0, Reward: 0, Next State: 19\n",
            "State: 19, Action: 0.0, Reward: 0, Next State: 19\n",
            "State: 19, Action: 0.0, Reward: 0, Next State: 19\n",
            "State: 19, Action: 2.0, Reward: 0, Next State: 19\n",
            "State: 19, Action: 3.0, Reward: 0, Next State: 19\n",
            "State: 19, Action: 2.0, Reward: 0, Next State: 19\n",
            "State: 19, Action: 1.0, Reward: 0, Next State: 19\n",
            "State: 19, Action: 3.0, Reward: 0, Next State: 19\n",
            "State: 19, Action: 3.0, Reward: 0, Next State: 19\n",
            "State: 19, Action: 3.0, Reward: 0, Next State: 19\n",
            "State: 19, Action: 1.0, Reward: 0, Next State: 19\n",
            "State: 19, Action: 0.0, Reward: 0, Next State: 19\n",
            "State: 19, Action: 0.0, Reward: 0, Next State: 19\n",
            "State: 19, Action: 2.0, Reward: 0, Next State: 19\n",
            "State: 19, Action: 2.0, Reward: 0, Next State: 19\n",
            "State: 19, Action: 0.0, Reward: 0, Next State: 19\n",
            "State: 19, Action: 3.0, Reward: 0, Next State: 19\n",
            "State: 19, Action: 0.0, Reward: 0, Next State: 19\n",
            "State: 19, Action: 0.0, Reward: 0, Next State: 19\n",
            "State: 19, Action: 2.0, Reward: 0, Next State: 19\n",
            "State: 19, Action: 1.0, Reward: 0, Next State: 19\n",
            "State: 19, Action: 3.0, Reward: 0, Next State: 19\n",
            "State: 19, Action: 2.0, Reward: 0, Next State: 19\n",
            "State: 19, Action: 0.0, Reward: 0, Next State: 19\n",
            "State: 19, Action: 0.0, Reward: 0, Next State: 19\n",
            "State: 19, Action: 0.0, Reward: 0, Next State: 19\n",
            "State: 19, Action: 1.0, Reward: 0, Next State: 19\n",
            "State: 19, Action: 3.0, Reward: 0, Next State: 19\n",
            "State: 19, Action: 0.0, Reward: 0, Next State: 19\n",
            "State: 19, Action: 0.0, Reward: 0, Next State: 19\n",
            "State: 19, Action: 2.0, Reward: 0, Next State: 19\n",
            "State: 19, Action: 0.0, Reward: 0, Next State: 19\n",
            "State: 19, Action: 0.0, Reward: 0, Next State: 19\n",
            "State: 19, Action: 1.0, Reward: 0, Next State: 19\n",
            "State: 19, Action: 0.0, Reward: 0, Next State: 19\n",
            "State: 19, Action: 0.0, Reward: 0, Next State: 19\n",
            "State: 19, Action: 0.0, Reward: 0, Next State: 19\n",
            "State: 19, Action: 0.0, Reward: 0, Next State: 19\n",
            "State: 19, Action: 2.0, Reward: 0, Next State: 19\n",
            "State: 19, Action: 0.0, Reward: 0, Next State: 19\n",
            "State: 19, Action: 1.0, Reward: 0, Next State: 19\n",
            "State: 19, Action: 0.0, Reward: 0, Next State: 19\n",
            "State: 19, Action: 0.0, Reward: 0, Next State: 19\n",
            "State: 19, Action: 1.0, Reward: 0, Next State: 19\n",
            "State: 19, Action: 2.0, Reward: 0, Next State: 19\n",
            "State: 19, Action: 1.0, Reward: 0, Next State: 19\n",
            "State: 19, Action: 0.0, Reward: 0, Next State: 19\n"
          ]
        }
      ]
    },
    {
      "cell_type": "code",
      "source": [],
      "metadata": {
        "id": "RnkOoX7svNcE"
      },
      "execution_count": null,
      "outputs": []
    }
  ]
}